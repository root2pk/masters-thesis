{
 "cells": [
  {
   "cell_type": "code",
   "execution_count": 1,
   "metadata": {},
   "outputs": [],
   "source": [
    "%load_ext autoreload\n",
    "%autoreload 2"
   ]
  },
  {
   "cell_type": "code",
   "execution_count": 2,
   "metadata": {},
   "outputs": [],
   "source": [
    "import numpy as np\n",
    "import utils as u"
   ]
  },
  {
   "cell_type": "code",
   "execution_count": 11,
   "metadata": {},
   "outputs": [
    {
     "name": "stdout",
     "output_type": "stream",
     "text": [
      "Raga: thodi\n",
      "Piece: Karuna Nidhi Illalo\n",
      "Instrument: violin\n",
      "Section: alaapana\n",
      "Audio length: 305.1639375 s\n"
     ]
    }
   ],
   "source": [
    "# Load audiofile at 16kHz\n",
    "audiofile = \"thodi/Karuna Nidhi Illalo/Karuna Nidhi Illalo.multitrack-violin-alaapana.mp3\"\n",
    "\n",
    "# Track info\n",
    "raga, piece, instrument, section = u.process_filename(audiofile)\n",
    "print(\"Raga:\", raga)\n",
    "print(\"Piece:\", piece)\n",
    "print(\"Instrument:\", instrument)\n",
    "print(\"Section:\", section)\n",
    "\n",
    "# Load audio\n",
    "sr = 16000\n",
    "y, sr = u.load_normalize(audiofile, sr = sr)\n",
    "length_s = len(y) / sr\n",
    "print(\"Audio length:\", length_s, \"s\")"
   ]
  },
  {
   "cell_type": "markdown",
   "metadata": {},
   "source": [
    "#### Tonic processing only for violin tracks"
   ]
  },
  {
   "cell_type": "code",
   "execution_count": 5,
   "metadata": {},
   "outputs": [
    {
     "name": "stdout",
     "output_type": "stream",
     "text": [
      "Estimated tonic: 135.63082885742188\n"
     ]
    }
   ],
   "source": [
    "# Calculate tonic and save\n",
    "tonic = u.identify_tonic(y, sr)\n",
    "print(f\"Estimated tonic: {tonic}\")\n",
    "tonic_file = audiofile.replace(\".mp3\", \".tonic\")\n",
    "np.savetxt(tonic_file, [tonic], fmt=\"%s\")"
   ]
  },
  {
   "cell_type": "code",
   "execution_count": 13,
   "metadata": {},
   "outputs": [
    {
     "name": "stdout",
     "output_type": "stream",
     "text": [
      "Loaded tonic: 135.63082885742188\n"
     ]
    }
   ],
   "source": [
    "# Load tonic\n",
    "tonic_file = \"thodi/Karuna Nidhi Illalo/Karuna Nidhi Illalo.multitrack-violin-main.tonic\"\n",
    "tonic = np.loadtxt(tonic_file)\n",
    "print(f\"Loaded tonic: {tonic}\")"
   ]
  },
  {
   "cell_type": "code",
   "execution_count": 14,
   "metadata": {},
   "outputs": [],
   "source": [
    "# Apply a high pass filter to the audio signal (tonic - 1)\n",
    "y_filt = u.high_pass(y, sr, tonic - 1, order = 10)\n",
    "y_filt = y_filt.astype(np.float32)  "
   ]
  },
  {
   "cell_type": "markdown",
   "metadata": {},
   "source": [
    "#### Raw pitch extraction"
   ]
  },
  {
   "cell_type": "code",
   "execution_count": 15,
   "metadata": {},
   "outputs": [],
   "source": [
    "# Calculate raw pitch with melodia\n",
    "hopsize_ms = 7.5\n",
    "binResolution = 1\n",
    "hopSize = u.ms_to_samples(hopsize_ms, sr)\n",
    "filterIterations = 5\n",
    "\n",
    "if instrument == \"vocal\":\n",
    "    minFrequency = 80\n",
    "    f0, conf = u.melodia(y, sr, hopSize = hopSize, minFrequency = minFrequency, binResolution = binResolution, filterIterations = filterIterations)\n",
    "else:\n",
    "    minFrequency = tonic - 1\n",
    "    f0, conf = u.melodia(y_filt, sr, hopSize = hopSize, minFrequency = minFrequency, binResolution = binResolution, filterIterations = filterIterations)"
   ]
  },
  {
   "cell_type": "code",
   "execution_count": 16,
   "metadata": {},
   "outputs": [
    {
     "name": "stdout",
     "output_type": "stream",
     "text": [
      "Pitch contour frame rate: 133.3381668009183\n"
     ]
    }
   ],
   "source": [
    "# Pitch contour frame rate\n",
    "framerate = len(f0) / length_s\n",
    "print(f\"Pitch contour frame rate: {framerate}\")"
   ]
  },
  {
   "cell_type": "code",
   "execution_count": 17,
   "metadata": {},
   "outputs": [],
   "source": [
    "# Save the pitch contour\n",
    "pitchfile = audiofile.replace(\".mp3\", \".pitch\")\n",
    "times = np.linspace(0, length_s, len(f0))\n",
    "np.savetxt(pitchfile, np.array([times, f0, conf]).T)"
   ]
  }
 ],
 "metadata": {
  "kernelspec": {
   "display_name": "Python 3",
   "language": "python",
   "name": "python3"
  },
  "language_info": {
   "codemirror_mode": {
    "name": "ipython",
    "version": 3
   },
   "file_extension": ".py",
   "mimetype": "text/x-python",
   "name": "python",
   "nbconvert_exporter": "python",
   "pygments_lexer": "ipython3",
   "version": "3.10.12"
  }
 },
 "nbformat": 4,
 "nbformat_minor": 2
}
