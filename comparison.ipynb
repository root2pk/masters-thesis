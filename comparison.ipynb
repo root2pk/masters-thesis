{
 "cells": [
  {
   "cell_type": "code",
   "execution_count": 5,
   "metadata": {},
   "outputs": [
    {
     "name": "stdout",
     "output_type": "stream",
     "text": [
      "The autoreload extension is already loaded. To reload it, use:\n",
      "  %reload_ext autoreload\n"
     ]
    }
   ],
   "source": [
    "%load_ext autoreload\n",
    "%autoreload 2\n",
    "\n",
    "import numpy as np\n",
    "import matplotlib.pyplot as plt\n",
    "import utils as u\n",
    "import pandas as pd"
   ]
  },
  {
   "cell_type": "code",
   "execution_count": 39,
   "metadata": {},
   "outputs": [],
   "source": [
    "# Load track info\n",
    "raga = \"kalyani\"\n",
    "piece = \"Sundari Nee Divya\"\n",
    "\n",
    "# Load data\n",
    "via_file = raga + \"/\" + piece + \"/\" + piece + \".multitrack-violin-alaapana-KDE.txt\"\n",
    "vim_file = raga + \"/\" + piece + \"/\" + piece + \".multitrack-violin-main-KDE.txt\"\n",
    "vis_file = raga + \"/\" + piece + \"/\" + piece + \".multitrack-violin-solo-KDE.txt\"\n",
    "voa_file = raga + \"/\" + piece + \"/\" + piece + \".multitrack-vocal-alaapana-KDE.txt\"\n",
    "vom_file = raga + \"/\" + piece + \"/\" + piece + \".multitrack-vocal-main-KDE.txt\"\n",
    "\n",
    "# Load the second column only (kde values)\n",
    "via = np.loadtxt(via_file)[:, 1]\n",
    "vim = np.loadtxt(vim_file)[:, 1]\n",
    "vis = np.loadtxt(vis_file)[:, 1]\n",
    "voa = np.loadtxt(voa_file)[:, 1]\n",
    "vom = np.loadtxt(vom_file)[:, 1]"
   ]
  },
  {
   "cell_type": "code",
   "execution_count": 40,
   "metadata": {},
   "outputs": [
    {
     "name": "stdout",
     "output_type": "stream",
     "text": [
      "Variance is equal, using equal variance t-test\n",
      "Variance is equal, using equal variance t-test\n",
      "Variance is equal, using equal variance t-test\n",
      "Variance is not equal, using Welch's t-test\n",
      "Variance is not equal, using Welch's t-test\n"
     ]
    }
   ],
   "source": [
    "# Violin alaapana vs violin main\n",
    "via_vim_t = u.t_test(via, vim)\n",
    "via_vim_m = u.mann_whitney_u(via, vim)\n",
    "via_vim_c = u.cross_entropy(via, vim)\n",
    "\n",
    "# Violin alaapana vs violin solo\n",
    "via_vis_t = u.t_test(via, vis)\n",
    "via_vis_m = u.mann_whitney_u(via, vis)\n",
    "via_vis_c = u.cross_entropy(via, vis)\n",
    "\n",
    "# Violin main vs violin solo\n",
    "vim_vis_t = u.t_test(vim, vis)\n",
    "vim_vis_m = u.mann_whitney_u(vim, vis)\n",
    "vim_vis_c = u.cross_entropy(vim, vis)\n",
    "\n",
    "# Violin alaapana vs vocal alaapana\n",
    "via_voa_t = u.t_test(via, voa)\n",
    "via_voa_m = u.mann_whitney_u(via, voa)\n",
    "via_voa_c = u.cross_entropy(via, voa)\n",
    "\n",
    "# Voilin main vs vocal main\n",
    "vim_vom_t = u.t_test(vim, vom)\n",
    "vim_vom_m = u.mann_whitney_u(vim, vom)\n",
    "vim_vom_c = u.cross_entropy(vim, vom)"
   ]
  },
  {
   "cell_type": "code",
   "execution_count": 41,
   "metadata": {},
   "outputs": [
    {
     "data": {
      "text/html": [
       "<div>\n",
       "<style scoped>\n",
       "    .dataframe tbody tr th:only-of-type {\n",
       "        vertical-align: middle;\n",
       "    }\n",
       "\n",
       "    .dataframe tbody tr th {\n",
       "        vertical-align: top;\n",
       "    }\n",
       "\n",
       "    .dataframe thead th {\n",
       "        text-align: right;\n",
       "    }\n",
       "</style>\n",
       "<table border=\"1\" class=\"dataframe\">\n",
       "  <thead>\n",
       "    <tr style=\"text-align: right;\">\n",
       "      <th></th>\n",
       "      <th>t-stat</th>\n",
       "      <th>t-p</th>\n",
       "      <th>U-stat</th>\n",
       "      <th>U-p</th>\n",
       "      <th>Cross-entropy</th>\n",
       "    </tr>\n",
       "  </thead>\n",
       "  <tbody>\n",
       "    <tr>\n",
       "      <th>Violin Alaapana vs Violin Main</th>\n",
       "      <td>0.096557</td>\n",
       "      <td>0.923086</td>\n",
       "      <td>784403.0</td>\n",
       "      <td>1.481356e-04</td>\n",
       "      <td>6.478558</td>\n",
       "    </tr>\n",
       "    <tr>\n",
       "      <th>Violin Alaapana vs Violin Solo</th>\n",
       "      <td>0.023610</td>\n",
       "      <td>0.981166</td>\n",
       "      <td>627244.0</td>\n",
       "      <td>4.641088e-08</td>\n",
       "      <td>6.485929</td>\n",
       "    </tr>\n",
       "    <tr>\n",
       "      <th>Violin Main vs Violin Solo</th>\n",
       "      <td>-0.088395</td>\n",
       "      <td>0.929570</td>\n",
       "      <td>561332.5</td>\n",
       "      <td>8.964797e-21</td>\n",
       "      <td>6.380280</td>\n",
       "    </tr>\n",
       "    <tr>\n",
       "      <th>Violin Alaapana vs Vocal Alaapana</th>\n",
       "      <td>-0.286690</td>\n",
       "      <td>0.774381</td>\n",
       "      <td>500106.5</td>\n",
       "      <td>2.211772e-38</td>\n",
       "      <td>6.681473</td>\n",
       "    </tr>\n",
       "    <tr>\n",
       "      <th>Violin Main vs Vocal Main</th>\n",
       "      <td>-0.420936</td>\n",
       "      <td>0.673851</td>\n",
       "      <td>463955.0</td>\n",
       "      <td>2.049783e-51</td>\n",
       "      <td>6.588613</td>\n",
       "    </tr>\n",
       "  </tbody>\n",
       "</table>\n",
       "</div>"
      ],
      "text/plain": [
       "                                     t-stat       t-p    U-stat           U-p  \\\n",
       "Violin Alaapana vs Violin Main     0.096557  0.923086  784403.0  1.481356e-04   \n",
       "Violin Alaapana vs Violin Solo     0.023610  0.981166  627244.0  4.641088e-08   \n",
       "Violin Main vs Violin Solo        -0.088395  0.929570  561332.5  8.964797e-21   \n",
       "Violin Alaapana vs Vocal Alaapana -0.286690  0.774381  500106.5  2.211772e-38   \n",
       "Violin Main vs Vocal Main         -0.420936  0.673851  463955.0  2.049783e-51   \n",
       "\n",
       "                                   Cross-entropy  \n",
       "Violin Alaapana vs Violin Main          6.478558  \n",
       "Violin Alaapana vs Violin Solo          6.485929  \n",
       "Violin Main vs Violin Solo              6.380280  \n",
       "Violin Alaapana vs Vocal Alaapana       6.681473  \n",
       "Violin Main vs Vocal Main               6.588613  "
      ]
     },
     "metadata": {},
     "output_type": "display_data"
    }
   ],
   "source": [
    "# Create a dataframe\n",
    "df = pd.DataFrame({\n",
    "    \"Violin Alaapana vs Violin Main\": [via_vim_t[0], via_vim_t[1], via_vim_m[0], via_vim_m[1], via_vim_c],\n",
    "    \"Violin Alaapana vs Violin Solo\": [via_vis_t[0], via_vis_t[1], via_vis_m[0], via_vis_m[1], via_vis_c],\n",
    "    \"Violin Main vs Violin Solo\": [vim_vis_t[0], vim_vis_t[1], vim_vis_m[0], vim_vis_m[1], vim_vis_c],\n",
    "    \"Violin Alaapana vs Vocal Alaapana\": [via_voa_t[0], via_voa_t[1], via_voa_m[0], via_voa_m[1], via_voa_c],\n",
    "    \"Violin Main vs Vocal Main\": [vim_vom_t[0], vim_vom_t[1], vim_vom_m[0], vim_vom_m[1], vim_vom_c]\n",
    "}, index=[\"t-stat\", \"t-p\", \"U-stat\", \"U-p\", \"Cross-entropy\"])\n",
    "# Transpose and save the dataframe\n",
    "df = df.T\n",
    "display(df)\n",
    "df.to_csv(raga + \"/\" + piece + \"/\" + piece + \"-metrics.csv\")"
   ]
  },
  {
   "cell_type": "markdown",
   "metadata": {},
   "source": [
    "#### For tracks without sections"
   ]
  },
  {
   "cell_type": "code",
   "execution_count": 47,
   "metadata": {},
   "outputs": [
    {
     "name": "stdout",
     "output_type": "stream",
     "text": [
      "Variance is not equal, using Welch's t-test\n"
     ]
    },
    {
     "data": {
      "text/html": [
       "<div>\n",
       "<style scoped>\n",
       "    .dataframe tbody tr th:only-of-type {\n",
       "        vertical-align: middle;\n",
       "    }\n",
       "\n",
       "    .dataframe tbody tr th {\n",
       "        vertical-align: top;\n",
       "    }\n",
       "\n",
       "    .dataframe thead th {\n",
       "        text-align: right;\n",
       "    }\n",
       "</style>\n",
       "<table border=\"1\" class=\"dataframe\">\n",
       "  <thead>\n",
       "    <tr style=\"text-align: right;\">\n",
       "      <th></th>\n",
       "      <th>t-stat</th>\n",
       "      <th>t-p</th>\n",
       "      <th>U-stat</th>\n",
       "      <th>U-p</th>\n",
       "      <th>Cross-entropy</th>\n",
       "    </tr>\n",
       "  </thead>\n",
       "  <tbody>\n",
       "    <tr>\n",
       "      <th>Violin vs Vocal</th>\n",
       "      <td>-0.504219</td>\n",
       "      <td>0.614172</td>\n",
       "      <td>388873.0</td>\n",
       "      <td>9.427963e-85</td>\n",
       "      <td>6.470165</td>\n",
       "    </tr>\n",
       "  </tbody>\n",
       "</table>\n",
       "</div>"
      ],
      "text/plain": [
       "                   t-stat       t-p    U-stat           U-p  Cross-entropy\n",
       "Violin vs Vocal -0.504219  0.614172  388873.0  9.427963e-85       6.470165"
      ]
     },
     "metadata": {},
     "output_type": "display_data"
    }
   ],
   "source": [
    "# Load track info\n",
    "raga = \"thodi\"\n",
    "piece = \"Munnu Ravana\"\n",
    "\n",
    "# Load data\n",
    "vi_file = raga + \"/\" + piece + \"/\" + piece + \".multitrack-violin-KDE.txt\"\n",
    "vo_file = raga + \"/\" + piece + \"/\" + piece + \".multitrack-vocal-KDE.txt\"\n",
    "\n",
    "\n",
    "# Load the second column only (kde values)\n",
    "vi = np.loadtxt(vi_file)[:, 1]\n",
    "vo = np.loadtxt(vo_file)[:, 1]\n",
    "\n",
    "# Metrics\n",
    "vi_vo_t = u.t_test(vi, vo)\n",
    "vi_vo_m = u.mann_whitney_u(vi, vo)\n",
    "vi_vo_c = u.cross_entropy(vi, vo)\n",
    "\n",
    "# Dataframe\n",
    "df = pd.DataFrame({\n",
    "    \"Violin vs Vocal\": [vi_vo_t[0], vi_vo_t[1], vi_vo_m[0], vi_vo_m[1], vi_vo_c]\n",
    "}, index=[\"t-stat\", \"t-p\", \"U-stat\", \"U-p\", \"Cross-entropy\"])\n",
    "df = df.T\n",
    "display(df)\n",
    "df.to_csv(raga + \"/\" + piece + \"/\" + piece + \"-metrics.csv\")"
   ]
  }
 ],
 "metadata": {
  "kernelspec": {
   "display_name": "Python 3",
   "language": "python",
   "name": "python3"
  },
  "language_info": {
   "codemirror_mode": {
    "name": "ipython",
    "version": 3
   },
   "file_extension": ".py",
   "mimetype": "text/x-python",
   "name": "python",
   "nbconvert_exporter": "python",
   "pygments_lexer": "ipython3",
   "version": "3.10.12"
  }
 },
 "nbformat": 4,
 "nbformat_minor": 2
}
