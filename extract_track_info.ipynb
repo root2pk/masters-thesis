{
 "cells": [
  {
   "cell_type": "code",
   "execution_count": 1,
   "metadata": {},
   "outputs": [],
   "source": [
    "%load_ext autoreload\n",
    "%autoreload 2"
   ]
  },
  {
   "cell_type": "code",
   "execution_count": 2,
   "metadata": {},
   "outputs": [],
   "source": [
    "import json\n",
    "import os\n",
    "import csv\n",
    "import librosa"
   ]
  },
  {
   "cell_type": "code",
   "execution_count": 3,
   "metadata": {},
   "outputs": [
    {
     "name": "stdout",
     "output_type": "stream",
     "text": [
      "168\n"
     ]
    }
   ],
   "source": [
    "# Run through a every subdirectory in a given directory and find all json files\n",
    "\n",
    "DIR = \"saraga1.5_carnatic\"\n",
    "\n",
    "json_files = []\n",
    "for root, dirs, files in os.walk(DIR):\n",
    "    for file in files:\n",
    "        if file.endswith(\"multitrack-violin.mp3\"):\n",
    "            # Replace the file extension with .json\n",
    "            json_filename = file.replace(\".multitrack-violin.mp3\", \".json\")\n",
    "            # Check if the JSON file exists in the same directory\n",
    "            if os.path.isfile(os.path.join(root, json_filename)):\n",
    "                json_files.append(os.path.join(root, json_filename))\n",
    "\n",
    "print(len(json_files))"
   ]
  },
  {
   "cell_type": "code",
   "execution_count": 17,
   "metadata": {},
   "outputs": [],
   "source": [
    "raaga_dict = {}\n",
    "\n",
    "for json_file in json_files:\n",
    "    \"\"\"\n",
    "    Get the \"raaga\" attribute and store it in raaga_dict, where the key is the filename and the value is the raaga\n",
    "    \"\"\"\n",
    "    with open(json_file, \"r\") as f:\n",
    "        data = json.load(f)\n",
    "        raaga = data[\"raaga\"]\n",
    "        if raaga == []:\n",
    "            raaga_dict[json_file] = {\"raaga\": None, \"common_name\": None}\n",
    "        else:\n",
    "            raaga = raaga[0]\n",
    "            common_name = raaga[\"common_name\"]\n",
    "            raaga_dict[json_file] = {\"raaga\": raaga, \"common_name\": common_name}"
   ]
  },
  {
   "cell_type": "code",
   "execution_count": 19,
   "metadata": {},
   "outputs": [],
   "source": [
    "# Open the CSV file for writing\n",
    "with open(\"raaga_info.csv\", \"w\", newline='') as file:\n",
    "    writer = csv.writer(file)\n",
    "    # Write the header row\n",
    "    writer.writerow([\"Filename\", \"Raaga\", \"Common Name\"])\n",
    "    # Write the data rows\n",
    "    for filename, info in raaga_dict.items():\n",
    "        writer.writerow([filename, info[\"raaga\"], info[\"common_name\"]])"
   ]
  },
  {
   "cell_type": "code",
   "execution_count": 8,
   "metadata": {},
   "outputs": [],
   "source": [
    "# Open raaga_info_full.csv and extract filename and common name, \n",
    "# Create a new dict with common name as key and associated filenames as values\n",
    "\n",
    "raaga_dict = {}\n",
    "with open(\"raaga_info_full.csv\", \"r\") as file:\n",
    "    reader = csv.reader(file)\n",
    "    next(reader) # Skip the header row\n",
    "    for row in reader:\n",
    "        filename = row[0]\n",
    "        filename = filename.replace(\".json\", \".multitrack-violin.mp3\")\n",
    "        common_name = row[2]\n",
    "        if common_name in raaga_dict:\n",
    "            raaga_dict[common_name].append(filename)\n",
    "        else:\n",
    "            raaga_dict[common_name] = [filename]\n"
   ]
  },
  {
   "cell_type": "code",
   "execution_count": 9,
   "metadata": {},
   "outputs": [],
   "source": [
    "raaga_lengths = {}\n",
    "for common_name, filenames in raaga_dict.items():\n",
    "    for filename in filenames:\n",
    "        if os.path.isfile(filename):\n",
    "            y, sr = librosa.load(filename, sr = 16000)\n",
    "            track_length = len(y)/16000\n",
    "            if common_name in raaga_lengths:\n",
    "                raaga_lengths[common_name] = raaga_lengths[common_name] + track_length\n",
    "            else:\n",
    "                raaga_lengths[common_name] = track_length\n",
    "            \n"
   ]
  },
  {
   "cell_type": "code",
   "execution_count": 10,
   "metadata": {},
   "outputs": [
    {
     "name": "stdout",
     "output_type": "stream",
     "text": [
      "- 8293.0525\n",
      "karaharapriya 7598.36575\n",
      "thodi 7076.500375\n",
      "shanmukhapriya 5335.084\n",
      "kalyani 4912.7491875\n",
      "hemaavati 4314.5645625\n",
      "saveri 3962.378125\n",
      "simhendra madhyamam 3608.5\n",
      "bhairavi 3161.1435\n",
      "natakapriya 2979.1989375\n",
      "kamavardani 2779.0298125\n",
      "bilahari 2686.860375\n",
      "mohanam 2666.089625\n",
      "ragamalika 2521.759375\n",
      "riti gaula 2408.0275\n",
      "purvi kalyani 2383.7011249999996\n",
      "andholika 2332.523625\n",
      "dhanyasi 2317.1309375\n",
      "shri ranjani 2259.45575\n",
      "kumudakriya 2108.9750625\n",
      "begada 2026.6576875\n",
      "suddha saveri 2014.584375\n",
      "jyotisvarupini 1787.554875\n",
      "Gamakakriya 1732.46325\n",
      "amritavarshini 1614.8599375\n",
      "rasikapriya 1589.904875\n",
      "kedaram 1505.9593125000001\n",
      "shuddhadhanyasi 1502.841125\n",
      "lalitha 1494.4039375\n",
      "saramathi 1441.1233125\n",
      "ranjani 1410.5485625\n",
      "vakulabharanam 1325.7156875\n",
      "kanada 1289.9111874999999\n",
      "nata 1249.38725\n",
      "harikambhoji 1222.7345625\n",
      "dharmaavati 1161.263125\n",
      "naatakuranji 1140.697375\n",
      "kedaragaula 1038.185\n",
      "jaganmohini 984.1006875\n",
      "varaali 937.9821875\n",
      "hindolam 893.40325\n",
      "vagadeeswari 892.7953125\n",
      "hameer kalyani 889.726\n",
      "vasanta 882.2026249999999\n",
      "padi 835.221\n",
      "mukhari 821.8813125\n",
      "gaula 801.731625\n",
      "janaranjani 799.4616875\n",
      "saranga 747.8020624999999\n",
      "sindhubhairavi 738.7736875\n",
      "sucharitra 734.2\n",
      "behag 682.050625\n",
      "chakravakam 640.94025\n",
      "kamas 581.81475\n",
      "surati 558.3411875\n",
      "jaunpuri 551.1816249999999\n",
      "supradeepam 545.11\n",
      "kalgada 531.508\n",
      "bangaala 529.09925\n",
      "nilambari 500.4438125\n",
      "gamanashrama 478.0599375\n",
      "kapi 476.1838125\n",
      "mandhari 471.8389375\n",
      "saraswati manohari 454.776\n",
      "huseni 453.156375\n",
      "hamsadhwani 447.2359375\n",
      "bindu maalini 441.8378125\n",
      "aarabhi 423.5160625\n",
      "nadanamakriya 423.2354375\n",
      "manirangu 385.21275\n",
      "gambhira nata 382.061125\n",
      "abhogi 377.2955625\n",
      "dvijavanti 361.347125\n",
      "yamuna kalyani 348.2145625\n",
      "rageshri 343.3335625\n",
      "sahana 337.800375\n",
      "maund 323.0174375\n",
      "sama 321.1895\n",
      "sruti ranjani 310.5973125\n",
      "devagandhari 302.514625\n",
      "madyamavati 301.3489375\n",
      "margahindolam 300.8394375\n",
      "salaga bhairavi 300.8193125\n",
      "karnataka devagandhari 291.004125\n",
      "pahadi 281.952\n",
      "saurashtram 280.3921875\n",
      "purna chandrika 277.470125\n",
      "kanakaangi 275.9785\n",
      "gaudamalhaar 266.9563125\n",
      "bahudari 263.5819375\n",
      "kokiladhwani 258.8575625\n",
      "chittaranjani 252.795875\n",
      "kadanakutuhulam 251.53\n",
      "jinjirutti 248.8671875\n",
      "purvi 241.5595625\n",
      "punnaga varali 231.9984375\n",
      "sindhumandari 131.4275\n",
      "sankarabharanam 110.1455625\n"
     ]
    }
   ],
   "source": [
    "# Print raaga lengths in descending order of values\n",
    "sorted_lengths = sorted(raaga_lengths.items(), key=lambda x: x[1], reverse=True)\n",
    "for raaga, length in sorted_lengths:\n",
    "    print(raaga, length)"
   ]
  },
  {
   "cell_type": "code",
   "execution_count": 13,
   "metadata": {},
   "outputs": [
    {
     "name": "stdout",
     "output_type": "stream",
     "text": [
      "saraga1.5_carnatic/Modhumudi Sudhakar at Arkay by Modhumudi Sudhakar/Sundari Nee Divya/Sundari Nee Divya.multitrack-violin.mp3\n",
      "saraga1.5_carnatic/Sumitra Nitin at Arkay by Sumitra Nitin/Vandalum/Vandalum.multitrack-violin.mp3\n",
      "saraga1.5_carnatic/Dr S Sundar at Arkay by S Sundar/Kannanai Paadu Maname/Kannanai Paadu Maname.multitrack-violin.mp3\n",
      "saraga1.5_carnatic/Prema Rangarajan at Arkay by Prema Rangarajan/Kailasapathe/Kailasapathe.multitrack-violin.mp3\n"
     ]
    }
   ],
   "source": [
    "# Print the filenames of 'thodi' from raaaga_dict\n",
    "for filename in raaga_dict['kalyani']:\n",
    "    print(filename)"
   ]
  }
 ],
 "metadata": {
  "kernelspec": {
   "display_name": "Python 3",
   "language": "python",
   "name": "python3"
  },
  "language_info": {
   "codemirror_mode": {
    "name": "ipython",
    "version": 3
   },
   "file_extension": ".py",
   "mimetype": "text/x-python",
   "name": "python",
   "nbconvert_exporter": "python",
   "pygments_lexer": "ipython3",
   "version": "3.10.12"
  }
 },
 "nbformat": 4,
 "nbformat_minor": 2
}
