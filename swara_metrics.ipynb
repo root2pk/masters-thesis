{
 "cells": [
  {
   "cell_type": "code",
   "execution_count": 2,
   "metadata": {},
   "outputs": [],
   "source": [
    "%load_ext autoreload\n",
    "%autoreload 2\n",
    "\n",
    "import numpy as np\n",
    "import utils as u\n",
    "import pandas as pd\n",
    "import seaborn as sns\n",
    "import matplotlib.pyplot as plt"
   ]
  },
  {
   "cell_type": "code",
   "execution_count": 8,
   "metadata": {},
   "outputs": [],
   "source": [
    "# Load track info\n",
    "tracks = [\n",
    "    {\"raga\": \"thodi\", \"piece\": \"Karuna Nidhi Illalo\"},\n",
    "    {\"raga\": \"thodi\", \"piece\": \"Koluvamaregatha\"},\n",
    "    {\"raga\": \"thodi\", \"piece\": \"Munnu Ravana\"},\n",
    "    {\"raga\": \"thodi\", \"piece\": \"Thappi Bratikipova\"},\n",
    "    {\"raga\": \"kalyani\", \"piece\": \"Kailasapathe\"},\n",
    "    {\"raga\": \"kalyani\", \"piece\": \"Sundari Nee Divya\"},\n",
    "    {\"raga\": \"kalyani\", \"piece\": \"Vandalum\"}\n",
    "]\n",
    "# Initialize an empty list to store DataFrames\n",
    "dfs = []\n",
    "\n",
    "# Load data\n",
    "def append_df(dfs, raga, piece, section, instrument, file_path):\n",
    "    df = pd.read_csv(file_path)\n",
    "    df[\"raga\"] = raga\n",
    "    df[\"piece\"] = piece\n",
    "    df[\"section\"] = section\n",
    "    df[\"instrument\"] = instrument\n",
    "    dfs.append(df)\n",
    "\n",
    "for track in tracks:\n",
    "    raga = track[\"raga\"]\n",
    "    piece = track[\"piece\"]\n",
    "    if piece == \"Munnu Ravana\" or piece == \"Vandalum\":\n",
    "        vifile = f\"{raga}/{piece}/{piece}.multitrack-violin-peaks.csv\"\n",
    "        append_df(dfs, raga, piece, \"main\", \"violin\", vifile)\n",
    "        \n",
    "        vofile = f\"{raga}/{piece}/{piece}.multitrack-vocal-peaks.csv\"\n",
    "        append_df(dfs, raga, piece, \"main\", \"vocal\", vofile)\n",
    "    else:\n",
    "        viafile = f\"{raga}/{piece}/{piece}.multitrack-violin-alaapana-peaks.csv\"\n",
    "        append_df(dfs, raga, piece, \"alaapana\", \"violin\", viafile)\n",
    "        \n",
    "        vimfile = f\"{raga}/{piece}/{piece}.multitrack-violin-main-peaks.csv\"\n",
    "        append_df(dfs, raga, piece, \"main\", \"violin\", vimfile)\n",
    "        \n",
    "        visfile = f\"{raga}/{piece}/{piece}.multitrack-violin-solo-peaks.csv\"\n",
    "        append_df(dfs, raga, piece, \"solo\", \"violin\", visfile)\n",
    "        \n",
    "        voafile = f\"{raga}/{piece}/{piece}.multitrack-vocal-alaapana-peaks.csv\"\n",
    "        append_df(dfs, raga, piece, \"alaapana\", \"vocal\", voafile)\n",
    "        \n",
    "        vomfile = f\"{raga}/{piece}/{piece}.multitrack-vocal-main-peaks.csv\"\n",
    "        append_df(dfs, raga, piece, \"main\", \"vocal\", vomfile)\n",
    "\n",
    "# Combine all DataFrames into a single DataFrame\n",
    "combined_df = pd.concat(dfs, ignore_index=True)\n",
    "\n",
    "# Move piece, section, and instrument columns to the front\n",
    "cols = combined_df.columns.tolist()\n",
    "cols = cols[-4:] + cols[:-4]\n",
    "combined_df = combined_df[cols]\n",
    "        "
   ]
  },
  {
   "cell_type": "code",
   "execution_count": 18,
   "metadata": {},
   "outputs": [],
   "source": [
    "swara_dict = {\n",
    "    \"s\": 0,\n",
    "    \"R1\": 100,\n",
    "    \"R2\": 200,\n",
    "    \"G1\": 300,\n",
    "    \"G3\": 400,\n",
    "    \"M1\": 500,\n",
    "    \"M2\": 600,\n",
    "    \"P\": 700,\n",
    "    \"D1\": 800,\n",
    "    \"D2\": 900,\n",
    "    \"N2\": 1000,\n",
    "    \"N3\": 1100,\n",
    "    \"S\": 1200\n",
    "}\n",
    "\n",
    "def find_closest_swara(mean_cents):\n",
    "    closest_swara = min(swara_dict, key=lambda k: abs(swara_dict[k] - mean_cents))\n",
    "    return closest_swara\n",
    "\n",
    "# Find closest swara for each peak\n",
    "combined_df['swara'] = combined_df['Mean (cents)'].apply(find_closest_swara)\n",
    "# Move swara before mean cents\n",
    "cols = combined_df.columns.tolist()\n",
    "swara_col = cols.pop(cols.index('swara'))\n",
    "cols.insert(cols.index('Mean (cents)'), swara_col)\n",
    "combined_df = combined_df[cols]\n",
    "\n",
    "# Save combined DataFrame to a CSV file\n",
    "combined_df.to_csv(\"swara_metrics.csv\", index=False)"
   ]
  },
  {
   "cell_type": "code",
   "execution_count": 17,
   "metadata": {},
   "outputs": [
    {
     "name": "stdout",
     "output_type": "stream",
     "text": [
      "50.326695170798025\n"
     ]
    }
   ],
   "source": [
    "# extract rows with raga thodi, instrument violin and swara R1\n",
    "thodi_violin_R1 = combined_df[(combined_df['raga'] == 'thodi') & (combined_df['instrument'] == 'violin') & (combined_df['swara'] == 'R1')]['Standard Deviation (cents)'].mean()\n",
    "# Average the 'Mean (cents)' column\n",
    "print(thodi_violin_R1)"
   ]
  }
 ],
 "metadata": {
  "kernelspec": {
   "display_name": "Python 3",
   "language": "python",
   "name": "python3"
  },
  "language_info": {
   "codemirror_mode": {
    "name": "ipython",
    "version": 3
   },
   "file_extension": ".py",
   "mimetype": "text/x-python",
   "name": "python",
   "nbconvert_exporter": "python",
   "pygments_lexer": "ipython3",
   "version": "3.10.12"
  }
 },
 "nbformat": 4,
 "nbformat_minor": 2
}
